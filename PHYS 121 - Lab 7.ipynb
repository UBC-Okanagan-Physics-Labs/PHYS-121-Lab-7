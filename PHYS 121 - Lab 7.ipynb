{
 "cells": [
  {
   "cell_type": "markdown",
   "id": "638cf46d",
   "metadata": {
    "deletable": false,
    "editable": false,
    "tags": []
   },
   "source": [
    "# <div style=\"background-color:rgba(204, 229, 255, 0.5); text-align:center; vertical-align: middle; padding:40px 0; margin-top:30px\"><span style=\"color:rgba(0, 76, 153, 1);\">**PHYS 121 Lab #7**<span style=\"color:red\"> $\\to$ (13 possible marks)</span> </span></div> \n",
    "\n",
    "<font size =\"4\"><span style=\"color:purple\">We recommend that you complete this notebook using either the [Google Chrome](https://www.google.com/intl/en_ca/chrome/) or [Mozilla Firefox](https://www.mozilla.org/en-CA/firefox/new/) browser.  Chrome and Firefox are both available for Windows, Mac, and Linux operating systems.  The PHYS 121 Jupyter notebooks should work in other browsers, but we have specifically verfied that they work well in both Chrome and Firefox.</span></font>\n",
    "\n",
    "# Earth's Magnetic Field"
   ]
  },
  {
   "cell_type": "markdown",
   "id": "b1e1f912",
   "metadata": {
    "deletable": false,
    "editable": false,
    "tags": []
   },
   "source": [
    "***\n",
    "## Learning Objectives:\n",
    "* <b><span style=\"color:rgba(0, 153, 76, 1);\"> Measure the properties of Earth's magnetic field at our position on Earth's surface. </span></b>\n",
    "* <b><span style=\"color:rgba(0, 153, 76, 1);\"> Determine how the strength of the magnetic field varies along the length of a solenoid supplied with a constant current.  </span></b>"
   ]
  },
  {
   "cell_type": "markdown",
   "id": "0c84e694",
   "metadata": {
    "deletable": false,
    "editable": false,
    "tags": []
   },
   "source": [
    "***\n",
    "## Autograding:\n",
    "The PHYS 121 Pre-lab assignments and Labs will make use of some autograding.  To make the autograding work, the two cells below needs to be executed.  The first one installs the required packages and the second imports required packages/modules.  If 'PHYS121.Installer()' reports that some functions have been installed, the user should restart the \"kernel\" and then exectute the PHYS121.Installer() cell a second time.  The second time the installer function is run, it should report that **\"All packages already installed. Please proceed\"**.\n",
    "\n",
    "If necessary, the kernel can be restarted by selecting **Kernel** $\\to$ **Restart Kernel** from the menu options at to the top of the page.  Here is a <a href = \"https://raw.githubusercontent.com/UBC-Okanagan-Physics-Labs/PHYS-121-images/main/general/gifs/restartKernel.gif\">GIF</a> showing how to restart the kernel.\n",
    "\n",
    "The 'PHYS121.Installer()' command requires the file 'PHYS121.py', which you should see included in the list of files along the left-hand side of the screen."
   ]
  },
  {
   "cell_type": "code",
   "execution_count": null,
   "id": "b2220456",
   "metadata": {
    "deletable": false,
    "editable": false,
    "tags": []
   },
   "outputs": [],
   "source": [
    "# Import PHYS121.py and then run the installer function.\n",
    "import PHYS121\n",
    "PHYS121.Installer()"
   ]
  },
  {
   "cell_type": "code",
   "execution_count": null,
   "id": "53b39b4d",
   "metadata": {
    "deletable": false,
    "editable": false,
    "tags": []
   },
   "outputs": [],
   "source": [
    "# Initialize Otter\n",
    "import otter\n",
    "grader = otter.Notebook(\"PHYS 121 - Lab 7.ipynb\")"
   ]
  },
  {
   "cell_type": "markdown",
   "id": "28ff1829",
   "metadata": {
    "deletable": false,
    "editable": false,
    "tags": []
   },
   "source": [
    "***\n",
    "## Import Modules:\n",
    "Execute the cell below to import a number of useful pre-built Python modules that will be used in the PHYS 121 pre-labs and labs."
   ]
  },
  {
   "cell_type": "code",
   "execution_count": null,
   "id": "12d1c29e",
   "metadata": {},
   "outputs": [],
   "source": [
    "import numpy as np\n",
    "import matplotlib.pyplot as plt\n",
    "import pandas as pd\n",
    "from matplotlib.pyplot import cm # used to generate a sequence of colours for plotting\n",
    "from scipy.optimize import curve_fit\n",
    "from IPython.display import HTML as html_print\n",
    "from IPython.display import display, Markdown, Latex\n",
    "from IPython.display import YouTubeVideo\n",
    "import math"
   ]
  },
  {
   "cell_type": "markdown",
   "id": "360ad969",
   "metadata": {
    "deletable": false,
    "editable": false,
    "tags": []
   },
   "source": [
    "# <div style=\"background-color:rgba(255, 204, 255, 0.5); text-align:center; vertical-align: middle; padding:40px 0; margin-top:30px\"><span style=\"color:rgba(102, 0, 204, 1);\">Name & Student Number</span></div>  \n",
    "\n",
    "To ensure that both you and your partner receive credit for you lab work, both your name and student number and your partner's name and student number need to appear in the notebooks used during the labs.  In the cells below this text, enter your name and student number and your partner's name and student number as strings (i.e. place your names and student numbers between single or double quotes.\n",
    "\n",
    "Examples of valid entries are:\n",
    "```python\n",
    "last_name_1 = 'Doe'\n",
    "first_name_1 = 'Jane'\n",
    "student_number_1 = '12345678'\n",
    "```\n",
    "and\n",
    "```python\n",
    "last_name_1 = \"Doe\"\n",
    "first_name_1 = \"John\"\n",
    "student_number_1 = \"12345678\"\n",
    "```"
   ]
  },
  {
   "cell_type": "markdown",
   "id": "a280f76e",
   "metadata": {
    "deletable": false,
    "editable": false,
    "tags": []
   },
   "source": [
    "<!-- BEGIN QUESTION -->\n",
    "\n",
    "***\n",
    "### **<span style=\"color:blue\">Partner #1</span>** **<span style=\"color:red\">(0.5 marks)</span>** "
   ]
  },
  {
   "cell_type": "code",
   "execution_count": null,
   "id": "21453974",
   "metadata": {
    "tags": []
   },
   "outputs": [],
   "source": [
    "# Enter LAST name of partner 1.  Delete the ... below and type your entry between the single quotes.\n",
    "# Once you've completed your entry, press SHIFT + ENTER to execute the cell.\n",
    "# *** Please do not change anything to the left of the equals sign. ***\n",
    "last_name_1 = ..."
   ]
  },
  {
   "cell_type": "code",
   "execution_count": null,
   "id": "9fd309a1",
   "metadata": {
    "tags": []
   },
   "outputs": [],
   "source": [
    "# Enter FIRST name of partner 1.  Delete the ... below and type your entry between the single quotes.\n",
    "# Once you've completed your entry, press SHIFT + ENTER to execute the cell.\n",
    "# *** Please do not change anything to the left of the equals sign. ***\n",
    "first_name_1 = ..."
   ]
  },
  {
   "cell_type": "code",
   "execution_count": null,
   "id": "61289ad1",
   "metadata": {
    "tags": []
   },
   "outputs": [],
   "source": [
    "# Enter STUDENT NUMBER of partner 1.  Delete the ... below and type your entry between the single quotes.\n",
    "# Once you've completed your entry, press SHIFT + ENTER to execute the cell.\n",
    "# *** Please do not change anything to the left of the equals sign. ***\n",
    "student_number_1 = ..."
   ]
  },
  {
   "cell_type": "markdown",
   "id": "c1d497c6",
   "metadata": {
    "deletable": false,
    "editable": false,
    "tags": []
   },
   "source": [
    "***\n",
    "### **<span style=\"color:blue\">Partner #2</span>** **<span style=\"color:red\">(0.5 marks)</span>** \n",
    "If you are working on your own, leave all of last_name_2, first_name_2, and student_number_2 as ...  Please still exectute these cells and then run the 'grader.check(\"name_and_student_number_2\")' cell."
   ]
  },
  {
   "cell_type": "code",
   "execution_count": null,
   "id": "95cfb094",
   "metadata": {
    "tags": []
   },
   "outputs": [],
   "source": [
    "# Enter LAST name of partner 2.  Delete the ... below and type your entry between the single quotes.\n",
    "# Once you've completed your entry, press SHIFT + ENTER to execute the cell.\n",
    "# *** Please do not change anything to the left of the equals sign. ***\n",
    "last_name_2 = ..."
   ]
  },
  {
   "cell_type": "code",
   "execution_count": null,
   "id": "aa59d5e3",
   "metadata": {
    "tags": []
   },
   "outputs": [],
   "source": [
    "# Enter FIRST name of partner 2.  Delete the ... below and type your entry between the single quotes.\n",
    "# Once you've completed your entry, press SHIFT + ENTER to execute the cell.\n",
    "# *** Please do not change anything to the left of the equals sign. ***\n",
    "first_name_2 = ..."
   ]
  },
  {
   "cell_type": "code",
   "execution_count": null,
   "id": "d41acd5c",
   "metadata": {
    "tags": []
   },
   "outputs": [],
   "source": [
    "# Enter STUDENT NUMBER of partner 2.  Delete the ... below and type your entry between the single quotes.\n",
    "# Once you've completed your entry, press SHIFT + ENTER to execute the cell.\n",
    "# *** Please do not change anything to the left of the equals sign. ***\n",
    "student_number_2 = ..."
   ]
  },
  {
   "cell_type": "code",
   "execution_count": null,
   "id": "73600853",
   "metadata": {
    "deletable": false,
    "editable": false
   },
   "outputs": [],
   "source": [
    "grader.check(\"name_and_student_number\")"
   ]
  },
  {
   "cell_type": "markdown",
   "id": "5bbbd73d",
   "metadata": {
    "deletable": false,
    "editable": false,
    "tags": []
   },
   "source": [
    "<!-- END QUESTION -->\n",
    "\n",
    "# <div style=\"background-color:rgba(255, 204, 255, 0.5); text-align:center; vertical-align: middle; padding:40px 0; margin-top:30px\"><span style=\"color:rgba(102, 0, 204, 1);\">Part 1 - Introduction (10 minutes)</span></div>\n",
    "\n",
    "In 1820, the Danish physicist Hans Christian Ørsted observed that a compass needle would be deflected when the compass was placed near a current-carrying wire.  **Figure 1** deomstrates this effect.  **Figure 1(c)** shows that a downwards current $I$ produces a magnetic field that encircles the wire in the clockwise sense. \n",
    "\n",
    "<p>\n",
    "<center>\n",
    "(a) <img src=\"https://raw.githubusercontent.com/UBC-Okanagan-Physics-Labs/PHYS-121-images/main/Lab-7/images/setup.jpg\" alt=\"Setup\" style=\"width: 30%; height: auto;\" /> (b) <img src=\"https://raw.githubusercontent.com/UBC-Okanagan-Physics-Labs/PHYS-121-images/main/Lab-7/images/zeroCurrent.jpg\" alt=\"Setup\" style=\"width: 30%; height: auto;\" /> (c) <img src=\"https://raw.githubusercontent.com/UBC-Okanagan-Physics-Labs/PHYS-121-images/main/Lab-7/images/nonzeroCurrent.png\" alt=\"Setup\" style=\"width: 30%; height: auto;\" /><br>\n",
    "<b>Fig. 1: (a) A simple setup to demonstrate that currents deflect the needle of a compass. (b) With the wire disconnected from the battery, there is no current in the green coil of wire.  In this case, all the compass needles align with Earth's magnetic field and point in the same direction.  (c) When the battery is connected, the compass needles are deflected and show that the current establishes a magnetic field loops around the green coil of wire.  Figures taken and adapted from <a href =\"https://www.exploratorium.edu/snacks/circles-of-magnetism\">Exploratorium</a>.</b></center>\n",
    "</p>\n",
    "\n",
    "This observation hinted towards a deep connection between electricity and magnetism, which would be vigourously investigated through the rest of the 19th century. Described mathematically by Maxwell in 1965 and verified experimentally by Hertz in the late 1880s and 90s, the theory of **electromagnetism** is the result of that work.\n",
    "\n",
    "For this lab, you will need to know:\n",
    "> Currents are a source of magnetic fields  \n",
    " For a solenoid with $N$ turns of wire over a length $L$, the magnetic field in the bore is approximately uniform and given by $B_\\mathrm{S} = \\mu_0 n I$  \n",
    " $n = N/L$ is the density of turns, $\\mu_0 = 4\\pi\\times 10^{-7}\\rm\\ N/A^2$ is called the permeability of free space, and $I$ is the current supplied to the solenoid\n",
    "\n",
    "**Figure 2** below reproduces one of the figures from the pre-lab.  The image on the left depicts the profile of the magnetic field due to a real solenoid.  When a solenoid is long compared to its radius, the magnetic field within the bore is approximately uniform, while it is approximately zero everywhere else.\n",
    "\n",
    "<p>\n",
    "<center>\n",
    "<img src=\"https://raw.githubusercontent.com/UBC-Okanagan-Physics-Labs/PHYS-121-images/main/Pre-Lab-7/images/uniformB.png\" alt=\"Uniform magnetic field\" style=\"width: 100%; height: auto;\" /><br>\n",
    "    <b>Fig. 2: The magnetic field inside a solenoid carrying current $I$ is approximately uniform.  Figure adapted from <a href =\"https://commons.wikimedia.org/wiki/File:VFPt_magnet_B_currents.svg\">Wikimedia Commons</a>.</b>\n",
    "</center>\n",
    "</p>"
   ]
  },
  {
   "cell_type": "markdown",
   "id": "04c19e6e",
   "metadata": {
    "deletable": false,
    "editable": false,
    "tags": []
   },
   "source": [
    "# <div style=\"background-color:rgba(255, 204, 255, 0.5); text-align:center; vertical-align: middle; padding:40px 0; margin-top:30px\"><span style=\"color:rgba(102, 0, 204, 1);\">Part 2 - Measuring Earth's Magnetic Field (75 minutes)</span></div>"
   ]
  },
  {
   "cell_type": "markdown",
   "id": "e038ff98",
   "metadata": {
    "deletable": false,
    "editable": false,
    "tags": []
   },
   "source": [
    "The main components of the apparatus that you'll use for today's experiment are shown in schematically **Fig. 3**.  \n",
    "\n",
    "<p>\n",
    "<center>\n",
    "<img src=\"https://raw.githubusercontent.com/UBC-Okanagan-Physics-Labs/PHYS-121-images/main/Pre-Lab-7/images/solenoid_Iweak.jpg\" alt=\"Compass in a solenoid\" style=\"width: 40%; height: auto;\" /><br>\n",
    "    <b>Fig. 3: A compass inside a solenoid carrying current $I$.  Figure adapted from images taken from <a href =\"https://freesvg.org/compass-simple\">FreeSVG</a> and <a href =\"https://commons.wikimedia.org/wiki/File:VFPt_magnet_B_currents.svg\">Wikimedia Commons</a>.</b>\n",
    "</center>\n",
    "</p>\n",
    "\n",
    "The full apparatus includes: \n",
    "> A solenoid wrapped around a square, clear plastic tube.  The spacing of the windings allows you to see inside the bore of the solenoid.  \n",
    "A compass mounted on a plastic block and ruler.  This assembly fits inside the bore of the solenoid.  \n",
    "A power supply and a series resistor that are used to supply a current to the solenoid.  The purpose of the resistor is to limit the maximum value of the current.  \n",
    "A multimeter that is used to measure the current.  \n",
    "A board the keeps the solenoid fixed in position with its axis perpendicular to Earth's magnetic field $\\vec{B}_\\mathrm{E}$.  \n",
    "The board is also used to mount a cell phone above the solenoid.  The phone will be used to take photos of compass in order to track its orientation as the solenoid current $I$ is varied.\n",
    "\n",
    "Recall from the pre-lab that the compass needle will point in the direction of the net magnetic field:\n",
    "\n",
    "$$\n",
    "\\vec{B}_\\mathrm{net} = \\vec{B}_\\mathrm{E} + \\vec{B}_\\mathrm{S}\n",
    "$$\n",
    "\n",
    "As shown in **Fig. 4**, $\\vec{B}_\\mathrm{net}$ (and, therefore, the compass needle) it rotated away from the direction of $\\vec{B}_\\mathrm{E}$ by an angle $\\varphi$.\n",
    "\n",
    "<p>\n",
    "<center>\n",
    "<img src=\"https://raw.githubusercontent.com/UBC-Okanagan-Physics-Labs/PHYS-121-images/6f1d0e7429284a6d30eb0dfff436873fbe37228b/Pre-Lab-7/images/btot.svg\" style=\"width: 15%\" /><br>\n",
    "<b>Fig. 4: The net magnetic field is given by superposition of Earth's magnetic field $\\vec{B}_\\mathrm{E}$ and the solenoid's magnetic field $\\vec{B}_\\mathrm{S}$.</b>\n",
    "</center>\n",
    "</p>\n",
    "\n",
    "From the geometry of the figure, $\\tan(\\varphi) = B_\\mathrm{S}/B_\\mathrm{E}$.  Substituting $B_\\mathrm{S} = \\mu_0 n I$ results in:\n",
    "\n",
    "$$\n",
    "\\tan(\\varphi) = \\left(\\frac{\\mu_0 n}{B_\\mathrm{E}}\\right)I\n",
    "\\tag{1}\n",
    "$$\n",
    "\n",
    "such that a plot of $\\tan(\\varphi)$ versus $I$ is linear with its slope $m$ given by:\n",
    "\n",
    "$$\n",
    "m = \\frac{\\mu_0 n}{B_\\mathrm{E}}\n",
    "\\tag{2}\n",
    "$$\n",
    "\n",
    "You should pause and reflect on the implications of this analysis:\n",
    "\n",
    "> **Using some simple mathematics and well-known physical laws, you obtained an expression for a quantity of interest ($B_\\mathrm{E}$) in terms of a small handful of easily-measureable quantities.** \n",
    "\n",
    "As experimentalists, this is the kind of result we *love* to see. It suggests a clear course of action - to measure the magnetic field of the earth, we need only measure the angle between the compass needle and the axis of the solenoid as a function of the current $I$ in our solenoid."
   ]
  },
  {
   "cell_type": "markdown",
   "id": "89f1e3b5",
   "metadata": {
    "deletable": false,
    "editable": false,
    "tags": []
   },
   "source": [
    "<!-- BEGIN QUESTION -->\n",
    "\n",
    "***\n",
    "**<span style=\"color:blue\">Question 2.1</span>** **<span style=\"color:red\">(1 mark)</span>**  \n",
    "\n",
    "From $B_\\mathrm{S} = \\mu_0 n I$, we see that the magnetic field in the solenoid depends on the turn density $n$, which will vary from solenoid to solenoid. Count the number of turns $N$ of your solenoid and measure its length $L$ in meters. Use the provided code cell below to assign your measurement values to the variables $N$ and $L$. Then, define the density of turns $n$ equal to be $N$ divided by $L$. "
   ]
  },
  {
   "cell_type": "markdown",
   "id": "18e0e9a4",
   "metadata": {
    "deletable": false,
    "editable": false,
    "tags": []
   },
   "source": [
    "***\n",
    "**<span style=\"color:blue\">Answer 2.1:</span>**\n",
    "\n",
    "Replace the instances of ... in the cell below with your answers.  \n",
    "\n",
    "*** Please do not change anything to the left of the equals sign. ***"
   ]
  },
  {
   "cell_type": "code",
   "execution_count": null,
   "id": "2d903452",
   "metadata": {
    "tags": []
   },
   "outputs": [],
   "source": [
    "L = ...\n",
    "N = ...\n",
    "n = ..."
   ]
  },
  {
   "cell_type": "code",
   "execution_count": null,
   "id": "a11088ea",
   "metadata": {
    "deletable": false,
    "editable": false
   },
   "outputs": [],
   "source": [
    "grader.check(\"q2.1\")"
   ]
  },
  {
   "cell_type": "markdown",
   "id": "6203d317",
   "metadata": {
    "deletable": false,
    "editable": false,
    "tags": []
   },
   "source": [
    "<!-- END QUESTION -->\n",
    "\n",
    "***\n",
    "\n",
    "Place the compass at the midpoint of your solenoid. Without any current passing through your solenoid, orient it on your table so that magnetic north is perpendicular to the axis of the solenoid. You should be careful to get this as *close* to $90^\\circ$ as possible! Your expression from pre-lab will not hold if the angle between the axis and the local field varies significantly from $90^\\circ$.  Also avoid placing any magnetic objects (such as a piece of iron or steel) in the vacinity of your apparatus. \n",
    "\n",
    "Using the provided phone, take pictures of the compass needle as you vary the current. You should take at least $12$ photos to get a good dataset. For example, you could start with the DC power supply turned off and then increment the current by $30\\rm\\ mA$ until you reach $180\\rm\\ mA$.  You could then reverse the direction of current and then repeat the sequence of measurements.  If the first set of measurements correspond to positive currents and positive angles $\\varphi$, then the measurements taken after reversing the current direction will correspond to negative values of $I$ and $\\varphi$.  You may want to write the current on a piece of paper in view of the camera to help organize the results later. Once you've taken your photos, transfer them to the lab computer or to the personal device that you're using to complete the lab. \n",
    "\n",
    "> **After transferring the photos to a computer, please delete ALL images from the phone.  When you're done the image gallery on the phone should be completely EMPTY.**\n",
    "***"
   ]
  },
  {
   "cell_type": "markdown",
   "id": "8d9b976a",
   "metadata": {
    "deletable": false,
    "editable": false,
    "tags": []
   },
   "source": [
    "The GIF below shows one possible method for measuring the angle of the compass needle. However, you are welcome to use your own method if you and your partner come up with one yourselves (and we're all ears if you have a good idea!).  If the GIF below is too slow, here's a link to the same <a href = \"https://github.com/UBC-Okanagan-Physics-Labs/PHYS-121-images/blob/main/Lab-7/gifs/magmeas.gif?raw=true\">GIF</a> sped up by a factor of two.  \n",
    "\n",
    "A copy of the protractor image used in the GIF is among the files listed along the left-had side of the screen.  The file is called \"Protractor.svg\".  You can download this file by right-clicking on the file name and selecting \"<img src=\"https://raw.githubusercontent.com/UBC-Okanagan-Physics-Labs/PHYS-121-images/main/Lab-7/images/downlaod.png\" alt=\"Download Icon\" style=\"width: 0.8%; height: auto; display: inline;\" /> Download\".  The same file can also be downloaded directly from <a href = \"https://commons.wikimedia.org/wiki/File:Protractor1.svg\">Wikimedia Commons</a>.\n",
    "\n",
    "<p>\n",
    "<center>\n",
    "<img src=\"https://github.com/UBC-Okanagan-Physics-Labs/PHYS-121-images/blob/main/Lab-7/gifs/magmeas_slow.gif?raw=true\" style=\"width: 85%\" />\n",
    "</center>\n",
    "</p>"
   ]
  },
  {
   "cell_type": "markdown",
   "id": "3a12620f",
   "metadata": {
    "deletable": false,
    "editable": false,
    "tags": []
   },
   "source": [
    "<!-- BEGIN QUESTION -->\n",
    "\n",
    "***\n",
    "**<span style=\"color:blue\">Question 2.2</span>** **<span style=\"color:red\">(2 marks)</span>**  \n",
    "\n",
    "Use the code cell below to load your data into a DataFrame. Here are some hints: \n",
    "* **The tangent function in numpy assumes that $\\varphi$ is in radians.** \n",
    "* You can call the radian function using ```np.radians(YOUR_NUMPY_ARRAY)``` and the numpy tan function using ```np.tan(YOUR_NUMPY_ARRAY)```."
   ]
  },
  {
   "cell_type": "markdown",
   "id": "44a09e27",
   "metadata": {
    "deletable": false,
    "editable": false,
    "tags": []
   },
   "source": [
    "***\n",
    "**<span style=\"color:blue\">Answer 2.2:</span>** \n",
    "\n",
    "Replace the instannces of ... in the cell below with your solutions.\n",
    "\n",
    "*** Please do not change anything to the left of the equals sign. ***"
   ]
  },
  {
   "cell_type": "code",
   "execution_count": null,
   "id": "c1947b25",
   "metadata": {
    "tags": []
   },
   "outputs": [],
   "source": [
    "# Enter the data\n",
    "I = np.array([...])\n",
    "phi = np.array([...])\n",
    "\n",
    "# Calculate tan(phi)\n",
    "tanPhi = np.tan(np.radians(phi))\n",
    "\n",
    "# Create the DataFrame\n",
    "df2 = pd.DataFrame({\"I\" : I,\n",
    "                    \"phi\" : phi,\n",
    "                    \"tanPhi\" : tanPhi\n",
    "                   })\n",
    "\n",
    "\n",
    "# Display the DataFrame\n",
    "df2"
   ]
  },
  {
   "cell_type": "code",
   "execution_count": null,
   "id": "9eb9ed4f",
   "metadata": {
    "deletable": false,
    "editable": false
   },
   "outputs": [],
   "source": [
    "grader.check(\"q2.2\")"
   ]
  },
  {
   "cell_type": "markdown",
   "id": "724ab878",
   "metadata": {
    "deletable": false,
    "editable": false,
    "tags": []
   },
   "source": [
    "<!-- END QUESTION -->\n",
    "\n",
    "<!-- BEGIN QUESTION -->\n",
    "\n",
    "***\n",
    "**<span style=\"color:blue\">Question 2.3</span>** **<span style=\"color:red\">(1 mark)</span>**  \n",
    "\n",
    "Use the 'LinearFit()' function from PHYS121.py to plot $\\tan(\\varphi)$ versus $I$ and fit a straight line to the data."
   ]
  },
  {
   "cell_type": "markdown",
   "id": "b7c231a2",
   "metadata": {
    "deletable": false,
    "editable": false,
    "tags": []
   },
   "source": [
    "***\n",
    "**<span style=\"color:blue\">Answer 2.3:</span>**\n",
    "\n",
    "Fill in the missing data needed when calling the 'LinearFit()' function.  Remember that the 'LinearFit()' function accepts arrays or lists as inputs - to call a column from a DataFrame as a list, use the syntax:\n",
    "```python\n",
    "df2[\"Column Name\"]\n",
    "```\n",
    "\n",
    "For additional information about the 'LinearFit()' function, see **Appendix A** near the end of this notebook.   \n",
    "\n",
    "*** Please do not change anything to the left of the equals sign. ***"
   ]
  },
  {
   "cell_type": "code",
   "execution_count": null,
   "id": "b9989032",
   "metadata": {
    "tags": []
   },
   "outputs": [],
   "source": [
    "# Perform your unweighted linear fit here, using the vectors you defined in the previous cell.\n",
    "m, b, dm, db, fig = PHYS121.LinearFit(xData = ...,\n",
    "                                      yData = ...,\n",
    "                                      xlabel = \"Current (A)\",\n",
    "                                      ylabel = \"tan(\\u03d5)\")"
   ]
  },
  {
   "cell_type": "markdown",
   "id": "f84fdcd1",
   "metadata": {
    "deletable": false,
    "editable": false,
    "tags": []
   },
   "source": [
    "<!-- END QUESTION -->\n",
    "\n",
    "***\n",
    "**<span style=\"color:blue\">Question 2.4</span>** **<span style=\"color:red\">(1 mark)</span>**  \n",
    "\n",
    "Finally, in the cell below, calculate $B_\\mathrm{E}$ and $\\delta B_\\mathrm{E}$ using the slope above and Eq. (2). You may assume that the uncertainty in $n$ is negligible. The cell below also stores the value of:\n",
    "\n",
    "$$\n",
    "\\mu_0 = 4\\pi\\times 10^{-7}\\rm\\ N/A^2\n",
    "$$\n",
    "\n",
    "in the variable `u0`.  You can use this variable when calculating $B_\\mathrm{E}$ and its uncertainty."
   ]
  },
  {
   "cell_type": "markdown",
   "id": "11d0b094",
   "metadata": {
    "deletable": false,
    "editable": false,
    "tags": []
   },
   "source": [
    "***\n",
    "**<span style=\"color:blue\">Answer 2.4:</span>**  \n",
    "\n",
    "Replace the instannces of ... in the cell below with your solutions.\n",
    "\n",
    "*** Please do not change anything to the left of the equals sign. ***"
   ]
  },
  {
   "cell_type": "code",
   "execution_count": null,
   "id": "2ec3a38d",
   "metadata": {
    "tags": []
   },
   "outputs": [],
   "source": [
    "# Store the value of the permeability of free space in the variable u0.\n",
    "u0 = 4e-7*np.pi # N/A^2\n",
    "\n",
    "Be = ...\n",
    "dBe = ...\n",
    "\n",
    "print(f\"Be = {Be:.2e} +/- {dBe:.1e} T\")"
   ]
  },
  {
   "cell_type": "code",
   "execution_count": null,
   "id": "897f3204",
   "metadata": {
    "deletable": false,
    "editable": false
   },
   "outputs": [],
   "source": [
    "grader.check(\"q2.4\")"
   ]
  },
  {
   "cell_type": "markdown",
   "id": "f0383c5a",
   "metadata": {
    "deletable": false,
    "editable": false,
    "tags": []
   },
   "source": [
    "# <div style=\"background-color:rgba(255, 204, 255, 0.5); text-align:center; vertical-align: middle; padding:40px 0; margin-top:30px\"><span style=\"color:rgba(102, 0, 204, 1);\">Part 3 - Magnetic Inclination (25 minutes)</span></div>"
   ]
  },
  {
   "cell_type": "markdown",
   "id": "97bda202",
   "metadata": {
    "deletable": false,
    "editable": false,
    "tags": []
   },
   "source": [
    "But wait... this all assumes that the magnetic field is completely parallel to the surface of Earth! The actual magnetic field turns out to be somewhat more complex. The angle between the *actual* direction of $\\vec{B}_\\mathrm{E}$ and the Earth's surface is called the **magnetic inclination** (or **magnetic dip**). The magnetic inclination varies from location to location, as **Fig. 5** illustrates.\n",
    "\n",
    "<p>\n",
    "<center>\n",
    "<img src=\"https://raw.githubusercontent.com/UBC-Okanagan-Physics-Labs/PHYS-121-images/80cd54616e3af4d304fed05c8f4858c898528d67/Lab-7/images/magincl.svg\" alt=\"image info\" style=\"width: 100%; height: auto;\" /><br>\n",
    "<b>Fig. 5: Magnetic inclination at different points of the earth's surface. Source: <a href=\"http://www.ngdc.noaa.gov/geomag/WMM/image.shtml\">http://www.ngdc.noaa.gov/geomag/WMM/image.shtml</a> (Public domain)</b></center>\n",
    "</p>\n",
    "\n",
    "The quantity that we measured in **Part 2** is actually the horizontal or *parallel* component of the local field, which we may denote as $B_{\\parallel}$. The total local magnetic field would be given by\n",
    "\n",
    "$$ B_\\mathrm{Earth} = \\sqrt{B_{\\parallel}^2 + B_{\\perp}^2} $$\n",
    "\n",
    "where $B_{\\perp}$ is the vertical of *perpendicular* component of Earth's magnetic field."
   ]
  },
  {
   "cell_type": "markdown",
   "id": "9a72fbf3",
   "metadata": {
    "deletable": false,
    "editable": false,
    "tags": []
   },
   "source": [
    "<!-- BEGIN QUESTION -->\n",
    "\n",
    "***\n",
    "**<span style=\"color:blue\">Question 3.1</span>** **<span style=\"color:red\">(1 mark)</span>**  \n",
    "\n",
    "Go to https://www.ngdc.noaa.gov/geomag/calculators/magcalc.shtml and find the *local* magnetic inclination, total magnetic field strength, and their associated uncertainties. Report these values using the code cell below.\n",
    "\n",
    "Note that, the angle will be denoted in terms of:\n",
    " - The angle to the nearest degree (eg. $15^\\circ$)\n",
    " - The number of arc minutes (eg. $48^\\prime$)\n",
    " - The number of arc seconds (eg. $16^{\\prime\\prime}$)\n",
    " \n",
    "To convert a number of arc minutes to a fraction of a degree, you divide the number of arc minutes by $60$.  Likewsie, to convert a number of arc seconds to degrees, you divide the number of arc seconds by $3600$.  So, for example, if an angle is reported as:\n",
    "\n",
    "\\begin{align}\n",
    "\\beta = 15^\\circ\\,48^\\prime\\,16^{\\prime\\prime},\n",
    "\\end{align}\n",
    "\n",
    "then the anlge in degrees is given by:\n",
    "\n",
    "\\begin{align}\n",
    "\\beta = 15 + \\frac{48}{60} + \\frac{16}{3600} = 15.8044^\\circ.\n",
    "\\end{align}"
   ]
  },
  {
   "cell_type": "markdown",
   "id": "a2130c37",
   "metadata": {
    "deletable": false,
    "editable": false,
    "tags": []
   },
   "source": [
    "***\n",
    "**<span style=\"color:blue\">Answer 3.1:</span>**\n",
    "\n",
    "Replace the instannces of ... in the cell below with your answers.\n",
    "\n",
    "*** Please do not change anything to the left of the equals sign. ***"
   ]
  },
  {
   "cell_type": "code",
   "execution_count": null,
   "id": "da1b3791",
   "metadata": {
    "tags": []
   },
   "outputs": [],
   "source": [
    "# Report 'Total Field' as B_Earth (with the uncertainty) in Tesla, and 'Inclination' as incl (with the uncertainty) as degrees:\n",
    "B_Earth = ...\n",
    "dB_Earth = ...\n",
    "incl = ...\n",
    "dincl = ...\n",
    "\n",
    "# Display the results.\n",
    "print(f\"B_Earth = {B_Earth:.3e} +/- {dB_Earth:.1e} T\")\n",
    "print(f\"Inclination = {incl:.1f} +/- {dincl:.1f} degrees\")"
   ]
  },
  {
   "cell_type": "markdown",
   "id": "2b7ee33e",
   "metadata": {
    "deletable": false,
    "editable": false,
    "tags": []
   },
   "source": [
    "<!-- END QUESTION -->\n",
    "\n",
    "***\n",
    "**<span style=\"color:blue\">Question 3.2</span>**  **<span style=\"color:red\">(1 mark)</span>**  \n",
    "\n",
    "Using the code cell below, calculate the magnetic inclination (in units of degrees) using the measured value of $B_\\parallel$ and the value of $B_\\mathrm{Earth}$ that you found from the NOAA website. You can use ```np.arccos(x)``` to calculate $\\cos^{-1}(x)$ **in radians**."
   ]
  },
  {
   "cell_type": "markdown",
   "id": "6fac41c0",
   "metadata": {
    "deletable": false,
    "editable": false,
    "tags": []
   },
   "source": [
    "***\n",
    "**<span style=\"color:blue\">Answer 3.2:</span>**\n",
    "\n",
    "Replace the ... with your solution.\n",
    "\n",
    "*** Please do not change anything to the left of the equals sign. ***"
   ]
  },
  {
   "cell_type": "code",
   "execution_count": null,
   "id": "45aec034",
   "metadata": {
    "tags": []
   },
   "outputs": [],
   "source": [
    "incl_meas = ...\n",
    "\n",
    "# Display the results.\n",
    "print(f\"Experimentally determined inclination angle = {incl_meas:.1f} degrees\")"
   ]
  },
  {
   "cell_type": "code",
   "execution_count": null,
   "id": "66c3fd48",
   "metadata": {
    "deletable": false,
    "editable": false
   },
   "outputs": [],
   "source": [
    "grader.check(\"q3.2\")"
   ]
  },
  {
   "cell_type": "markdown",
   "id": "8833e816",
   "metadata": {
    "deletable": false,
    "editable": false,
    "tags": []
   },
   "source": [
    "<!-- BEGIN QUESTION -->\n",
    "\n",
    "***\n",
    "**<span style=\"color:blue\">Question 3.3</span>**  **<span style=\"color:red\">(1 mark)</span>** \n",
    "\n",
    "Compare this value to the one you found online. Are they equal within the margin of error? Comment on the relative values and speculate about possible sources of discrepancies. "
   ]
  },
  {
   "cell_type": "markdown",
   "id": "b3965674",
   "metadata": {},
   "source": [
    "***\n",
    "**<span style=\"color:blue\">Answer 3.3:</span>**\n",
    "\n",
    "[//]: # (Please do not delete this comment or anything above it.  Anything below this comment can be deleted.)  \n",
    "\n",
    "Double click this cell and enter your text here.  When done, hit 'Shift' + 'Enter' to execute the cell.  You may delete this text when entering your answer. \n",
    "***"
   ]
  },
  {
   "cell_type": "markdown",
   "id": "327f88e7",
   "metadata": {
    "deletable": false,
    "editable": false,
    "tags": []
   },
   "source": [
    "<!-- END QUESTION -->\n",
    "\n",
    "# <div style=\"background-color:rgba(255, 204, 255, 0.5); text-align:center; vertical-align: middle; padding:40px 0; margin-top:30px\"><span style=\"color:rgba(102, 0, 204, 1);\">Part 4 - Inhomogeneity of the Solenoid Magnetic Field (30 minutes)</span></div>"
   ]
  },
  {
   "cell_type": "markdown",
   "id": "52aae955",
   "metadata": {
    "deletable": false,
    "editable": false,
    "tags": []
   },
   "source": [
    "<!-- BEGIN QUESTION -->\n",
    "\n",
    "**<span style=\"color:blue\">Question 4.1</span>** **<span style=\"color:red\">(2 marks)</span>**  \n",
    "\n",
    "The expression $B_\\mathrm{S} = \\mu_0 n I$ gives an excellent approximation of the magnetic field at the centre of a solenoid. But what about the field at different points along the axis? Using the a ruler and the same method you used in **Part 1**, measure the angle between the compass needle and the axis of the solenoid with a fixed current $I$ for at least $6$ different positions $x$ (in units of $\\rm cm$) along the length of the solenoid, including one of the endpoints and the midpoint.  It is best if you use a value of $I$ that causes the compass needle to be deflected by about $45^\\circ$ when the compass at the centre of the solenoid.  Define the position varible $x$ so that the endpoints are at $x = \\pm L/2$ and the midpoint is at $x = 0$."
   ]
  },
  {
   "cell_type": "markdown",
   "id": "029cf44a",
   "metadata": {
    "deletable": false,
    "editable": false,
    "tags": []
   },
   "source": [
    "***\n",
    "**<span style=\"color:blue\">Answer 4.1:</span>**\n",
    "\n",
    "Replace the instannces of ... in the cell below with your data.\n",
    "\n",
    "*** Please do not change anything to the left of the equals sign. ***"
   ]
  },
  {
   "cell_type": "code",
   "execution_count": null,
   "id": "cd781ec6",
   "metadata": {
    "tags": []
   },
   "outputs": [],
   "source": [
    "x = ...\n",
    "phi2 = ..."
   ]
  },
  {
   "cell_type": "code",
   "execution_count": null,
   "id": "48d451a0",
   "metadata": {
    "deletable": false,
    "editable": false
   },
   "outputs": [],
   "source": [
    "grader.check(\"q4.1\")"
   ]
  },
  {
   "cell_type": "markdown",
   "id": "22629cfa",
   "metadata": {
    "deletable": false,
    "editable": false,
    "tags": []
   },
   "source": [
    "<!-- END QUESTION -->\n",
    "\n",
    "The next code cell is used to symmetrize the data.  Specifically, we will assume measurements at $\\pm x$ values would reuslt in the same values of $\\phi$.  Of course, it would be best to actually measure $\\varphi$ separately for $x>0$ and $x<0$, but we have limited time...\n",
    "\n",
    "Note also that **Fig. 4** implies that:\n",
    "\n",
    "$$\n",
    "\\tan(\\varphi) = \\frac{B_\\mathrm{S}}{B_\\mathrm{E}}\n",
    "$$\n",
    "\n",
    "In other words, $\\tan(\\varphi)\\propto B_\\mathrm{S}$.  Therefore, a plot of $\\tan(\\varphi)$ versus $x$ will tell us how the stength of $B_\\mathrm{S}$ varies along the length of the solenoid.\n",
    "\n",
    "Execute the cell below to:\n",
    "> Symmetrize the data you collected  \n",
    "Calculate $\\tan(\\varphi)$  \n",
    "Load the data into a DataFrame"
   ]
  },
  {
   "cell_type": "code",
   "execution_count": null,
   "id": "fc80d379",
   "metadata": {},
   "outputs": [],
   "source": [
    "# Symmetrize the data\n",
    "x = np.concatenate((x, -x))\n",
    "phi2 = np.concatenate((phi2, phi2))\n",
    "\n",
    "# Calculate tan(phi)\n",
    "tanPhi2 = np.tan(np.radians(phi2))\n",
    "\n",
    "# Create the DataFrame\n",
    "df4 = pd.DataFrame({\"x\" : x,\n",
    "                    \"phi\" : phi2,\n",
    "                    \"tanPhi\" : tanPhi2\n",
    "                   })\n",
    "\n",
    "# Display the DataFrame\n",
    "df4"
   ]
  },
  {
   "cell_type": "markdown",
   "id": "79117331",
   "metadata": {
    "deletable": false,
    "editable": false,
    "tags": []
   },
   "source": [
    "<!-- BEGIN QUESTION -->\n",
    "\n",
    "***\n",
    "**<span style=\"color:blue\">Question 4.2</span>** **<span style=\"color:red\">(1 mark)</span>**  \n",
    "\n",
    "Now, generate a scatter plot showing your values of $\\tan(\\varphi)\\propto B_\\mathrm{S}$ as a function of position $x$. Refer to **Appendix B** if you need a refresher on how to use the 'PHYS121.Scatter()' function."
   ]
  },
  {
   "cell_type": "code",
   "execution_count": null,
   "id": "b8cb8567",
   "metadata": {},
   "outputs": [],
   "source": []
  },
  {
   "cell_type": "code",
   "execution_count": null,
   "id": "06459f3b",
   "metadata": {
    "tags": []
   },
   "outputs": [],
   "source": [
    "fig = PHYS121.Scatter(xData = ...,\n",
    "                yData = ...,\n",
    "                xlabel = \"position (cm)\",\n",
    "                ylabel = \"tan(\\u03d5)\")"
   ]
  },
  {
   "cell_type": "markdown",
   "id": "e60f2fa7",
   "metadata": {
    "deletable": false,
    "editable": false,
    "tags": []
   },
   "source": [
    "<!-- END QUESTION -->\n",
    "\n",
    "<!-- BEGIN QUESTION -->\n",
    "\n",
    "***\n",
    "**<span style=\"color:blue\">Question 4.3</span>** **<span style=\"color:red\">(1 mark)</span>**  \n",
    "\n",
    "Comment on your results. In particular, discuss *qualitatively* the field strength at the endpoints relative to the field strength at the midpoint. Do these results make intuitive sense to you? Why or why not? There are many ways to answer this question - think critically and don't worry about being exactly correct! "
   ]
  },
  {
   "cell_type": "markdown",
   "id": "8a19fca5",
   "metadata": {},
   "source": [
    "***\n",
    "**<span style=\"color:blue\">Answer 4.3:</span>**\n",
    "\n",
    "[//]: # (Please do not delete this comment or anything above it.  Anything below this comment can be deleted.)  \n",
    "\n",
    "Double click this cell and enter your text here.  When done, hit 'Shift' + 'Enter' to execute the cell.  You may delete this text when entering your answer. \n",
    "***"
   ]
  },
  {
   "cell_type": "markdown",
   "id": "3ad80bac",
   "metadata": {
    "deletable": false,
    "editable": false,
    "tags": []
   },
   "source": [
    "<!-- END QUESTION -->\n",
    "\n",
    "# <div style=\"background-color:rgba(255, 204, 255, 0.5); text-align:center; vertical-align: middle; padding:40px 0; margin-top:30px\"><span style=\"color:rgba(102, 0, 204, 1);\">Part 5 - Student Interviews (10 minutes)</span></div>"
   ]
  },
  {
   "cell_type": "markdown",
   "id": "beed338e",
   "metadata": {
    "deletable": false,
    "editable": false,
    "tags": []
   },
   "source": [
    "<!-- BEGIN QUESTION -->\n",
    "\n",
    "<font size=\"+2\"><b> Invitation to Participate: <br>\n",
    "PHYS 121 Semi-Structured Interviews </b></font>\n",
    "\n",
    "<i> Principal Investigator: </i> Jake Bobowski, Professor of Teaching – Physics <br>\n",
    "<i> Co-Investigator: </i> Hiroko Nakahara, Physics Laboratory Manager <br>\n",
    "<i> Co-Investigator: </i> Jordan Andrews, Physics Laboratory Technician <br> \n",
    "<i> Co-Investigator: </i> Firas Moosvi, Lecturer – Physics <br>\n",
    "<i> Co-Investigator: </i> Jordan Sawchuk, Undergraduate Student – Physics <br>\n",
    "<i> Affiliation: </i> Faculty of Science University of British Columbia, Okanagan Campus <br>\n",
    "<i> Contact Phone: </i> 250-807-9506 <br>\n",
    "<i> Contact Email: </i> jake.bobowski@ubc.ca <br>\n",
    "\n",
    "You are being invited to participate in a semi-structured interview about your experience in the Physics 121 labs. Along with the midterm and end-of-term Qualtrics surveys, these interviews are an integral part of our physics education research study. In a semi-structured interview, the interviewer follows a general outline of questions or topics to be covered, but may deviate from the original plan if new and interesting information arises.  The interest and thoughts of the interviewees will play a large role in guiding the direction of the discussion.\n",
    "\n",
    "These interviews will be conducted on a purely voluntary basis.  Whether or not you choose to volunteer will have no impact on your grade in PHYS 121. The structure, length, and date of the interviews will be contingent upon:\n",
    " - (a) the number of participants\n",
    " - (b) the preferences of those participants. \n",
    " \n",
    "The interviews will be conducted during the last three weeks of classes, are expected to take approximately 20 minutes, and may be performed individually or in groups.  The interviews will be recorded so that the discussions can be reviewed by the research team at a later date.  Any data extracted from the recordings will be anonymized and you will never be identified by name or student number. \n",
    "\n",
    "If you are interested in participating in these interviews, please enter your student number in the cell below.  At the same time, if you have any preferences regarding the structure, length, or date of the interview, please also include this information.  We will gladly do whatever we can to accommodate your preferences.\n",
    "\n",
    "If you decide at a later date that you’d like to participate in the interviews, you can email either Jake Bobowski (jake.bobowski@ubc.ca) or Hiroko Nakahara (hiroko.nakahara@ubc.ca) with the subject line “PHYS 121 SSI”."
   ]
  },
  {
   "cell_type": "markdown",
   "id": "d5e726e4",
   "metadata": {},
   "source": [
    "***\n",
    "**<span style=\"color:blue\">Partner #1:</span>**\n",
    "\n",
    "[//]: # (Please do not delete this comment or anything above it.  Anything below this comment can be deleted.)  \n",
    "\n",
    "If you're interested in volunteering to participate in the interviews, please double click this cell and enter your student number.  You may also enter any preferences you have regarding the format of the interviews.  If you're not interested in volunteering, skip this part and leave this cell unchanged.  "
   ]
  },
  {
   "cell_type": "markdown",
   "id": "ebb44fce",
   "metadata": {},
   "source": [
    "<!-- END QUESTION -->\n",
    "\n",
    "<!-- BEGIN QUESTION -->\n",
    "\n",
    "***\n",
    "**<span style=\"color:blue\">Partner #2:</span>**\n",
    "\n",
    "[//]: # (Please do not delete this comment or anything above it.  Anything below this comment can be deleted.)  \n",
    "\n",
    "If you're interested in volunteering to participate in the interviews, please double click this cell and enter your student number.  You may also enter any preferences you have regarding the format of the interviews.  If you're not interested in volunteering, skip this part and leave this cell unchanged.  "
   ]
  },
  {
   "cell_type": "markdown",
   "id": "00dafd2b",
   "metadata": {
    "deletable": false,
    "editable": false,
    "tags": []
   },
   "source": [
    "<!-- END QUESTION -->\n",
    "\n",
    "# <div style=\"background-color:rgba(255, 204, 255, 0.5); text-align:center; vertical-align: middle; padding:40px 0; margin-top:30px\"><span style=\"color:rgba(102, 0, 204, 1);\">Part 6 - Reflection & statement of contributions (10 minutes)</span></div>"
   ]
  },
  {
   "cell_type": "markdown",
   "id": "7dc7bdfd",
   "metadata": {
    "deletable": false,
    "editable": false,
    "tags": []
   },
   "source": [
    "***\n",
    "Below, you will briefly summarize the contributions that you and your partner made when completely this lab.  Please ensure that both partners have a chance to engage in all types of lab activities (developing the experimental methods/data collection strategies, hands-on interaction with the apparatus/data collection, and data processing/analysis in the Jupyter notebook).  Note that statements of contributions are common in science.  The figure below shows one example taken from a 2021 paper published in the journal *Nature Physics*.\n",
    "\n",
    "<p>\n",
    "<center>\n",
    "<img src=\"https://cmps-people.ok.ubc.ca/jbobowsk/PHYS_121_Lab/Lab1/images/contributions.jpg\" alt=\"image info\" style=\"width: 60%; height: auto;\" /><br>\n",
    "<b>Fig. 4: A sample statement of author contributions from a recent journal article.</b></center>\n",
    "</p>"
   ]
  },
  {
   "cell_type": "markdown",
   "id": "46a9b389",
   "metadata": {
    "deletable": false,
    "editable": false,
    "tags": []
   },
   "source": [
    "<!-- BEGIN QUESTION -->\n",
    "\n",
    "***\n",
    "**<span style=\"color:blue\">Question 6.1(a):</span>**  \n",
    "\n",
    "Answer this question only if you worked with a partner to complete this lab.\n",
    "\n",
    "In two or three sentences describe the specific contributions of **Partner A** to this lab.  For example, worked with the experimental apparatus to collect data for Part 1 of the lab, entered and processed the data in the Jupyter notebook for Part 2 of the lab, ...  "
   ]
  },
  {
   "cell_type": "markdown",
   "id": "957cd470",
   "metadata": {},
   "source": [
    "***\n",
    "**<span style=\"color:blue\">Answer 6.1(a):</span>**\n",
    "\n",
    "[//]: # (Please do not delete this comment or anything above it.  Anything below this comment can be deleted.)  \n",
    "\n",
    "Double click this cell and enter your text here.  Please start be entering the name and student number of **Partner A**.  When done, hit 'Shift' + 'Enter' to execute the cell.  You may delete this text when entering your answer. "
   ]
  },
  {
   "cell_type": "markdown",
   "id": "de8e05c1",
   "metadata": {
    "deletable": false,
    "editable": false,
    "tags": []
   },
   "source": [
    "<!-- END QUESTION -->\n",
    "\n",
    "<!-- BEGIN QUESTION -->\n",
    "\n",
    "***\n",
    "**<span style=\"color:blue\">Question 6.1(b):</span>**  \n",
    "\n",
    "Answer this question only if you worked with a partner to complete this lab.\n",
    "\n",
    "In two or three sentences describe the specific contributions of **Partner B** to this lab.  "
   ]
  },
  {
   "cell_type": "markdown",
   "id": "93f5161c",
   "metadata": {},
   "source": [
    "***\n",
    "**<span style=\"color:blue\">Answer 6.1(b):</span>**\n",
    "\n",
    "[//]: # (Please do not delete this comment or anything above it.  Anything below this comment can be deleted.)  \n",
    "\n",
    "Double click this cell and enter your text here.  Please start be entering the name and student number of **Partner B**.  When done, hit 'Shift' + 'Enter' to execute the cell.  You may delete this text when entering your answer. "
   ]
  },
  {
   "cell_type": "markdown",
   "id": "b346dc78",
   "metadata": {
    "deletable": false,
    "editable": false,
    "tags": []
   },
   "source": [
    "<!-- END QUESTION -->\n",
    "\n",
    "# <div style=\"background-color:rgba(255, 204, 255, 0.5); text-align:center; vertical-align: middle; padding:40px 0; margin-top:30px\"><span style=\"color:rgba(102, 0, 204, 1);\">Part 7 - Submission (5 minutes)</span></div>"
   ]
  },
  {
   "cell_type": "markdown",
   "id": "d402bd7e",
   "metadata": {
    "deletable": false,
    "editable": false,
    "tags": []
   },
   "source": [
    "<!-- BEGIN QUESTION -->\n",
    "\n",
    "***\n",
    "**<span style=\"color:blue\">Question 7.1:</span>**  \n",
    "\n",
    "We welcome your feedback on the PHYS 121 labs!  Please feel free to include any comments you have about this lab in the cell below.  Your comments will be taken into consideration when revising/improving the PHYS 121 labs.  You can suggest improvements, point out anything that was unclear, comment on the strengths and weaknesses of the lab, ...\n",
    "\n",
    "This question is optional and will have no impact on your lab grade."
   ]
  },
  {
   "cell_type": "markdown",
   "id": "e70826e2",
   "metadata": {},
   "source": [
    "***\n",
    "**<span style=\"color:blue\">Answer 7.1:</span>**\n",
    "\n",
    "[//]: # (Please do not delete this comment or anything above it.  Anything below this comment can be deleted.)  \n",
    "\n",
    "Double click this cell and enter your text here.  When done, hit 'Shift' + 'Enter' to execute the cell.  You may delete this text when entering your answer. "
   ]
  },
  {
   "cell_type": "markdown",
   "id": "dfc0ff80",
   "metadata": {},
   "source": [
    "<!-- END QUESTION -->\n",
    "\n"
   ]
  },
  {
   "cell_type": "code",
   "execution_count": null,
   "id": "a32f01de",
   "metadata": {
    "deletable": false,
    "editable": false,
    "tags": []
   },
   "outputs": [],
   "source": [
    "grader.check_all()"
   ]
  },
  {
   "cell_type": "markdown",
   "id": "99f20b1f",
   "metadata": {
    "deletable": false,
    "editable": false,
    "tags": []
   },
   "source": [
    "***\n",
    "\n",
    "## Submission\n",
    "\n",
    "Make sure you have run all cells in your notebook in order before running the cell below, so that all images/graphs appear in the output. The cell below will generate a zip file for you to submit. **Please save before exporting!**\n",
    "\n",
    "Once you've completed this notebook:\n",
    "- Save your work.\n",
    "- Run 'grader.export()' to generate a .zip file containing all of the materials that you will submit.\n",
    "- Download the generated .zip file.\n",
    "- Upload the .zip file to the PHYS 121 Canvas gradebook.\n",
    "\n",
    "Here is a <a href = \"https://raw.githubusercontent.com/UBC-Okanagan-Physics-Labs/PHYS-121-images/main/general/gifs/Submission.gif\">GIF</a> showing how these steps are completed.  Once your completed notebook has been uploaded to the Canvas gradebook, you're done!"
   ]
  },
  {
   "cell_type": "code",
   "execution_count": null,
   "id": "2e7d7c71",
   "metadata": {
    "deletable": false,
    "editable": false,
    "tags": []
   },
   "outputs": [],
   "source": [
    "# Save your notebook first, then run this cell (place your cursor in the cell and then hit Shift + Enter) to export \n",
    "# your submission.  Uploaded the .zip file that is generated to the gradebook of the Canvas shell for the PHYS 121 lab.\n",
    "grader.export()"
   ]
  },
  {
   "cell_type": "markdown",
   "id": "8cbe80de",
   "metadata": {
    "deletable": false,
    "editable": false,
    "tags": []
   },
   "source": [
    "# <div style=\"background-color:rgba(255, 204, 255, 0.5); text-align:center; vertical-align: middle; padding:40px 0; margin-top:30px\"><span style=\"color:rgba(102, 0, 204, 1);\">Part 8 - Playground (optional)</span></div>\n",
    "\n",
    "Feel free to add as many cells as you like below and use them as a playground for further independent investigations.  These cells won't be graded, so feel free to use them in any way that you like.  "
   ]
  },
  {
   "cell_type": "code",
   "execution_count": null,
   "id": "e8d132ee",
   "metadata": {},
   "outputs": [],
   "source": [
    "# Here's an empty code cell that you can use.  "
   ]
  },
  {
   "cell_type": "code",
   "execution_count": null,
   "id": "431c4609",
   "metadata": {},
   "outputs": [],
   "source": [
    "# Here's another empty code cell that you can use."
   ]
  },
  {
   "cell_type": "code",
   "execution_count": null,
   "id": "190b9f62",
   "metadata": {},
   "outputs": [],
   "source": [
    "# Here's yet another empty code cell that you can use.  \n",
    "# If you need more, you can add cells using the '+' icon in the menu bar at to the top of the screen."
   ]
  },
  {
   "cell_type": "markdown",
   "id": "6a97d316",
   "metadata": {
    "deletable": false,
    "editable": false,
    "tags": []
   },
   "source": [
    "### <div style=\"background-color:rgba(255, 255, 102, 0.5); text-align:left; padding:20px 0; margin-top:20px\">$\\quad$Appendix A &ndash; The LinearFit Function...</div>\n",
    "\n",
    "The linear-fit function is called as follows:\n",
    "```python\n",
    "LinearFit(xData, yData, yErrors = [], xlabel = 'x-axis', ylabel = 'y-axis', xUnits = '', yUnits = '', fill = False)\n",
    "```\n",
    "The xData and yData lists are required.  The others are optional with default values set.  The function returns the following outputs:\n",
    "```python\n",
    "Slope, Yintercept, errSlope, errYintercept, fig\n",
    "```\n",
    "The first four outputs are numerical values and 'fig' is the formatted plot. \n",
    "\n",
    "If $y$-uncertainities are provided, the function will perform a weighted fit.  The $y$-uncertainties list must be the same length as $x$- and $y$-data lists.  If $y$-uncertainties are not provided, the fit will be unweighted.  The other optional arguments include $x$- and $y$-axis names and units for the $x$- and $y$-datasets.  These must be entered as strings (enclosed in quotations) and they are used for formatting the outputs of the function.  If 'fill' is set to True, shading will be added around the best-fit line representing confindence intervals. \n",
    "\n",
    "### Unweighted Fit Example Implmentation\n",
    "The code block below shows the most basic use of 'LinearFit' for an unweighted fit without any of the optional arguments.\n",
    "```python\n",
    "import PHYS121\n",
    "V = [1, 2, 3, 4]\n",
    "I = [0.12, 0.198, 0.285, 0.412]\n",
    "m, b, dm, db, fig = PHYS121.LinearFit(V, I)\n",
    "```\n",
    "\n",
    "### Weighted Fit Example Implmentation\n",
    "This second blcok of code shows how to use 'LinearFit' to do a weighted fit.  It also makes use of all of the other optional arguments.  \n",
    "```python\n",
    "import PHYS121\n",
    "V = [1, 2, 3, 4]\n",
    "I = [0.12, 0.198, 0.285, 0.412]\n",
    "errI = [0.005, 0.012, 0.020, 0.025]\n",
    "m, b, dm, db, fig = PHYS121.LinearFit(V, I, errI, 'voltage' , 'current', 'V', 'A', True)\n",
    "```\n",
    "\n",
    "The 'm, b, dm, db, fig = ...' syntax is used to store the function outputs in varibles.  If you're interested in details of the fitting process, see the following Python-based tutorial: https://cmps-people.ok.ubc.ca/jbobowsk/Python/html/Jupyter%20Weighted%20Linear%20Fit.html\n",
    "***"
   ]
  },
  {
   "cell_type": "markdown",
   "id": "42bd99d4",
   "metadata": {
    "deletable": false,
    "editable": false,
    "tags": []
   },
   "source": [
    "### <div style=\"background-color:rgba(255, 255, 102, 0.5); text-align:left; padding:20px 0; margin-top:20px\">$\\quad$Appendix B &ndash; The Scatter Function...</div>\n",
    "\n",
    "The function for generating scatter plots is called as follows:\n",
    "```python\n",
    "Scatter(xData, yData, yErrors = [], xlabel = 'x-axis', ylabel = 'y-axis', xUnits = '', yUnits = '', fill = False, show = True)\n",
    "```\n",
    "The 'xData' and 'yData' inputs are required, all other arguments are optional with default values set.  The function returns the a single output (the formatted plot):\n",
    "```python\n",
    "fig\n",
    "```\n",
    "\n",
    "The function will do a simple scatter plot if no 'yError' are included.  It will included error bars if 'yErrors' are passed to the function.  The 'fill' and 'show' arguments should generally be false.  \n",
    "\n",
    "If the 'xData' list is empty, as in:\n",
    "```python\n",
    "xData = []\n",
    "```\n",
    "then the x-axis will be the trial number.  For example, is 'xData' is empty and 'yData' has 10 elements, the x-axis will span 1 to 10.\n",
    "\n",
    "### Scatter Example Implmentation\n",
    "The code block below shows an implementation of 'Scatter'.\n",
    "```python\n",
    "import PHYS121\n",
    "theta = [10, 20, 30] # degrees\n",
    "T = [2.02, 1.95, 2.13] # s\n",
    "errT = [0.02, 0.02, 0.03] # s\n",
    "fig = PHYS121.Scatter(theta, T, errT, 'initial angle' , 'period', 'degrees', 's')\n",
    "```\n",
    "\n",
    "If you're interested in generating your own plots with customized formatting, see the following Python-based plotting tutorial: https://cmps-people.ok.ubc.ca/jbobowsk/Python/html/Jupyter%20Basic%20Plots.html.\n",
    "***"
   ]
  },
  {
   "cell_type": "markdown",
   "id": "d5254dbe",
   "metadata": {
    "deletable": false,
    "editable": false,
    "tags": []
   },
   "source": [
    "<img src=\"https://raw.githubusercontent.com/UBC-Okanagan-Physics-Labs/PHYS-121-images/main/general/images/ubc-logo-full.jpg\" width=\"500\"/>"
   ]
  },
  {
   "cell_type": "markdown",
   "id": "07f6f16a",
   "metadata": {},
   "source": [
    "Last update: March 13, 2023"
   ]
  }
 ],
 "metadata": {
  "kernelspec": {
   "display_name": "Python 3 (ipykernel)",
   "language": "python",
   "name": "python3"
  },
  "language_info": {
   "codemirror_mode": {
    "name": "ipython",
    "version": 3
   },
   "file_extension": ".py",
   "mimetype": "text/x-python",
   "name": "python",
   "nbconvert_exporter": "python",
   "pygments_lexer": "ipython3",
   "version": "3.10.6"
  },
  "otter": {
   "OK_FORMAT": true,
   "tests": {
    "name_and_student_number": {
     "name": "name_and_student_number",
     "points": null,
     "suites": [
      {
       "cases": [
        {
         "code": ">>> isinstance(last_name_1, str)\nTrue",
         "failure_message": "last_name_1 must be a string (i.e. surround your answer by either single or double quotes).",
         "hidden": false,
         "locked": false,
         "points": 0
        },
        {
         "code": ">>> isinstance(first_name_1, str)\nTrue",
         "failure_message": "first_name_1 must be a string (i.e. surround your answer by either single or double quotes).",
         "hidden": false,
         "locked": false,
         "points": 0
        },
        {
         "code": ">>> isinstance(student_number_1, str)\nTrue",
         "failure_message": "student_number_1 must be a string (i.e. surround your answer by either single or double quotes).",
         "hidden": false,
         "locked": false,
         "points": 0
        },
        {
         "code": ">>> test = True\n>>> if isinstance(student_number_1, str):\n...     test = len(student_number_1) == 8\n>>> test\nTrue",
         "failure_message": "student_number_1 must be a string of exactly 8 characters.",
         "hidden": false,
         "locked": false,
         "points": 0
        },
        {
         "code": ">>> test = True\n>>> if isinstance(student_number_1, str):\n...     test = student_number_1.isdigit()\n>>> test\nTrue",
         "failure_message": "student_number_1 must contain only interger digits (0, 1, 2, 3, ..., 9)",
         "hidden": false,
         "locked": false,
         "points": 0.5
        },
        {
         "code": ">>> isinstance(last_name_2, str) or last_name_2 == ...\nTrue",
         "failure_message": "last_name_2 must be a string (i.e. surround your answer by either single or double quotes).",
         "hidden": false,
         "locked": false,
         "points": 0
        },
        {
         "code": ">>> isinstance(first_name_2, str) or first_name_2 == ...\nTrue",
         "failure_message": "first_name_2 must be a string (i.e. surround your answer by either single or double quotes).",
         "hidden": false,
         "locked": false,
         "points": 0
        },
        {
         "code": ">>> isinstance(student_number_2, str) or student_number_2 == ...\nTrue",
         "failure_message": "student_number_2 must be a string (i.e. surround your answer by either single or double quotes).",
         "hidden": false,
         "locked": false,
         "points": 0
        },
        {
         "code": ">>> test = True\n>>> if isinstance(student_number_2, str):\n...     test = len(student_number_2) == 8\n>>> test\nTrue",
         "failure_message": "student_number_2 must be a string of exactly 8 characters or be left as ...",
         "hidden": false,
         "locked": false,
         "points": 0
        },
        {
         "code": ">>> test = True\n>>> if isinstance(student_number_2, str):\n...     test = student_number_2.isdigit()\n>>> test\nTrue",
         "failure_message": "student_number_2 must contain only interger digits (0, 1, 2, 3, ..., 9) or be left as ...",
         "hidden": false,
         "locked": false,
         "points": 0.5
        }
       ],
       "scored": true,
       "setup": "",
       "teardown": "",
       "type": "doctest"
      }
     ]
    },
    "q2.1": {
     "name": "q2.1",
     "points": null,
     "suites": [
      {
       "cases": [
        {
         "code": ">>> np.isclose(n, N/L, rtol = 1e-3)\nTrue",
         "failure_message": "The density of turns n must be equal to N/L.",
         "hidden": false,
         "locked": false,
         "points": 0
        }
       ],
       "scored": true,
       "setup": "",
       "teardown": "",
       "type": "doctest"
      }
     ]
    },
    "q2.2": {
     "name": "q2.2",
     "points": null,
     "suites": [
      {
       "cases": [
        {
         "code": ">>> len(df2[\"tanPhi\"]) >= 12\nTrue",
         "failure_message": "Make sure to collect at least 12 different current/angle measurements.",
         "hidden": false,
         "locked": false,
         "points": 0
        },
        {
         "code": ">>> all(np.isclose(df2[\"tanPhi\"], np.tan(np.radians(phi)), rtol = 1e-3))\nTrue",
         "failure_message": "Make sure that when you're calculating tanPhi, that phi is properly converted to radians.",
         "hidden": false,
         "locked": false,
         "points": 0
        }
       ],
       "scored": true,
       "setup": "",
       "teardown": "",
       "type": "doctest"
      }
     ]
    },
    "q2.4": {
     "name": "q2.4",
     "points": null,
     "suites": [
      {
       "cases": [
        {
         "code": ">>> np.isclose(Be, u0*n/m)\nTrue",
         "failure_message": "Please check your calculation of B_Loc.",
         "hidden": false,
         "locked": false,
         "points": 0.5
        },
        {
         "code": ">>> np.isclose(dBe, u0*n*dm/m**2)\nTrue",
         "failure_message": "Please check your calculation of dB_Loc.",
         "hidden": false,
         "locked": false,
         "points": 0.5
        }
       ],
       "scored": true,
       "setup": "",
       "teardown": "",
       "type": "doctest"
      }
     ]
    },
    "q3.2": {
     "name": "q3.2",
     "points": null,
     "suites": [
      {
       "cases": [
        {
         "code": ">>> np.isclose(incl_meas, np.arccos(Be/B_Earth)*180/np.pi)\nTrue",
         "failure_message": "Please check your calculation of incl_meas.",
         "hidden": false,
         "locked": false,
         "points": 1
        }
       ],
       "scored": true,
       "setup": "",
       "teardown": "",
       "type": "doctest"
      }
     ]
    },
    "q4.1": {
     "name": "q4.1",
     "points": null,
     "suites": [
      {
       "cases": [
        {
         "code": ">>> len(phi2) >= 6 and len(x) >= 6\nTrue",
         "failure_message": "Make sure to collect at least 6 measurements.",
         "hidden": false,
         "locked": false,
         "points": 0
        },
        {
         "code": ">>> len(phi2) == len(x)\nTrue",
         "failure_message": "x and phi2 do not have the same length.",
         "hidden": false,
         "locked": false,
         "points": 0
        }
       ],
       "scored": true,
       "setup": "",
       "teardown": "",
       "type": "doctest"
      }
     ]
    }
   }
  }
 },
 "nbformat": 4,
 "nbformat_minor": 5
}
